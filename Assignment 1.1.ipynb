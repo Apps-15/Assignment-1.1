{
 "cells": [
  {
   "cell_type": "markdown",
   "metadata": {},
   "source": [
    "**Data Types:**\n",
    "1. What are the primary built-in data types in Python?\n",
    "2. Explain the difference between mutable and immutable data types.\n",
    "3. How do you convert one data type to another? Give examples.\n",
    "4. What is the purpose of the `None` data type in Python?\n",
    "\n",
    "**Operators:**\n",
    "5. Describe the difference between the `==` and `is` operators in Python.\n",
    "6. Explain the use of the ternary conditional operator (`x if condition else y`).\n",
    "7. What is operator precedence? How is it determined in Python?\n",
    "8. How can you perform string concatenation using the `+` operator?\n",
    "9. What is the difference between the `/` and `//` operators for division?\n",
    "\n",
    "**Conditional Statements:**\n",
    "10. What is the purpose of an `if` statement in Python? Provide an example.\n",
    "11. How do you use the `elif` statement in combination with `if` and `else`?\n",
    "12. Explain the use of the `in` keyword in a conditional statement.\n",
    "13. How can you use logical operators (`and`, `or`, `not`) to combine conditions?\n",
    "\n",
    "**Looping Statements:**\n",
    "14. Explain the difference between the `while` and `for` loops in Python.\n",
    "15. How do you use the `break` and `continue` statements within loops?\n",
    "16. What is an iterable? Provide examples of Python built-in iterables.\n",
    "17. Describe how the `range()` function is used in a `for` loop.\n",
    "18. How can you iterate over both the elements and their indices in a loop?\n",
    "\n",
    "**Functions:**\n",
    "19. What is a function in Python? How do you define and call a function?\n",
    "20. Explain the difference between parameters and arguments in a function.\n",
    "21. Describe the use of the `return` statement in a function.\n",
    "22. How can you pass an arbitrary number of arguments to a function? (e.g., `*args`, `**kwargs`)\n",
    "23. What is a lambda function? Provide an example of its usage."
   ]
  }
 ],
 "metadata": {
  "language_info": {
   "name": "python"
  },
  "orig_nbformat": 4
 },
 "nbformat": 4,
 "nbformat_minor": 2
}
